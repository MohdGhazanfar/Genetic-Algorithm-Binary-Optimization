{
 "cells": [
  {
   "cell_type": "code",
   "execution_count": 2,
   "metadata": {},
   "outputs": [],
   "source": [
    "#fitness function: The number of 1s in the chromosome."
   ]
  },
  {
   "cell_type": "code",
   "execution_count": 3,
   "metadata": {},
   "outputs": [],
   "source": [
    "import random\n",
    "\n",
    "populationSize = 100\n",
    "chromosomeLength = 16\n",
    "mutationProb = 0.01\n",
    "maxGenerations = 1000\n",
    "\n",
    "initialState = []\n",
    "goalState = []\n",
    "\n",
    "# Initialize the initial state and goal state as 4x4 grids\n",
    "for _ in range(4):\n",
    "    row_initial = [0] * 4\n",
    "    row_goal = [1] * 4\n",
    "    initialState.append(row_initial)\n",
    "    goalState.append(row_goal)\n",
    "\n",
    "# Flatten the initial state and goal state\n",
    "flatInitialState = []\n",
    "flatGoalState = []\n",
    "\n",
    "for row in initialState:\n",
    "    for item in row:\n",
    "        flatInitialState.append(item)\n",
    "\n",
    "for row in goalState:\n",
    "    for item in row:\n",
    "        flatGoalState.append(item)\n"
   ]
  },
  {
   "cell_type": "code",
   "execution_count": 4,
   "metadata": {},
   "outputs": [],
   "source": [
    "def generate_population():\n",
    "    population = []\n",
    "    for i in range(populationSize):\n",
    "        chromosome = flatInitialState[:]\n",
    "        population.append(chromosome)\n",
    "    return population\n",
    "\n",
    "def fitness(chromosome):\n",
    "    return sum(chromosome)"
   ]
  },
  {
   "cell_type": "code",
   "execution_count": 5,
   "metadata": {},
   "outputs": [],
   "source": [
    "#Perform roulette wheel selection to choose two parents\n",
    "def selection(population):\n",
    "    fitnesses = [fitness(chromosome) for chromosome in population]\n",
    "    total_fitness = sum(fitnesses)\n",
    "    if total_fitness == 0:\n",
    "        parent1_index, parent2_index = random.sample(range(len(population)), k=2)\n",
    "    else:\n",
    "        selection_probs = [fitness/total_fitness for fitness in fitnesses]\n",
    "        indices = range(len(population))\n",
    "        parent1_index = random.choices(indices, weights=selection_probs)[0]\n",
    "        parent2_index = random.choices(indices, weights=selection_probs)[0]\n",
    "    return population[parent1_index], population[parent2_index]\n"
   ]
  },
  {
   "cell_type": "code",
   "execution_count": 6,
   "metadata": {},
   "outputs": [],
   "source": [
    "#Perform single-point crossover on two parents\n",
    "def crossover(parent1, parent2):\n",
    "    crossover_point = random.randint(0, chromosomeLength-1)\n",
    "    child1 = parent1[:crossover_point] + parent2[crossover_point:]\n",
    "    child2 = parent2[:crossover_point] + parent1[crossover_point:]\n",
    "    return child1, child2"
   ]
  },
  {
   "cell_type": "code",
   "execution_count": 7,
   "metadata": {},
   "outputs": [],
   "source": [
    "def mutation(chromosome):\n",
    "    for i in range(chromosomeLength):\n",
    "        if random.random() < mutationProb:\n",
    "            chromosome[i] = 1 - chromosome[i]\n",
    "    return chromosome\n"
   ]
  },
  {
   "cell_type": "code",
   "execution_count": 8,
   "metadata": {},
   "outputs": [],
   "source": [
    "def goal_test(chromosome):\n",
    "    return chromosome == flatGoalState #Checking if a chromosome is the goal state"
   ]
  },
  {
   "cell_type": "code",
   "execution_count": 9,
   "metadata": {},
   "outputs": [],
   "source": [
    "def replace(population, child1, child2):\n",
    "    fitnesses = [fitness(chromosome) for chromosome in population]\n",
    "    min_index = fitnesses.index(min(fitnesses))\n",
    "    if fitness(child1) > fitness(child2): \n",
    "        population[min_index] = child1\n",
    "    else:\n",
    "        population[min_index] = child2\n",
    "    return population"
   ]
  },
  {
   "cell_type": "code",
   "execution_count": 10,
   "metadata": {},
   "outputs": [],
   "source": [
    "def genetic_algorithm():\n",
    "    population = generate_population()\n",
    "    for i in range(maxGenerations):\n",
    "        parent1, parent2 = selection(population)\n",
    "        child1, child2 = crossover(parent1, parent2)\n",
    "        child1 = mutation(child1)\n",
    "        child2 = mutation(child2)\n",
    "        if goal_test(child1) or goal_test(child2):\n",
    "            return child1 if goal_test(child1) else child2\n",
    "        population = replace(population, child1, child2)\n",
    "    return None"
   ]
  },
  {
   "cell_type": "code",
   "execution_count": 11,
   "metadata": {},
   "outputs": [
    {
     "name": "stdout",
     "output_type": "stream",
     "text": [
      "Solution: [[1, 1, 1, 1, 1, 1, 1, 1, 1, 1, 1, 1, 1, 1, 1, 1]]\n"
     ]
    }
   ],
   "source": [
    "solution = genetic_algorithm()\n",
    "if solution:\n",
    "    print(\"Solution:\", [solution])\n",
    "else:\n",
    "    print(\"No solution found.\")"
   ]
  },
  {
   "cell_type": "code",
   "execution_count": null,
   "metadata": {},
   "outputs": [],
   "source": []
  }
 ],
 "metadata": {
  "kernelspec": {
   "display_name": "Python 3",
   "language": "python",
   "name": "python3"
  },
  "language_info": {
   "codemirror_mode": {
    "name": "ipython",
    "version": 3
   },
   "file_extension": ".py",
   "mimetype": "text/x-python",
   "name": "python",
   "nbconvert_exporter": "python",
   "pygments_lexer": "ipython3",
   "version": "3.10.6"
  },
  "orig_nbformat": 4
 },
 "nbformat": 4,
 "nbformat_minor": 2
}
